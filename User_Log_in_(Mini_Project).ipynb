{
  "cells": [
    {
      "cell_type": "code",
      "execution_count": null,
      "metadata": {
        "colab": {
          "base_uri": "https://localhost:8080/"
        },
        "id": "VnZtX3xSqOML",
        "outputId": "46c7cf37-0c86-4f59-f430-d89457c99f49"
      },
      "outputs": [
        {
          "output_type": "stream",
          "name": "stdout",
          "text": [
            "\n",
            "1. Registration\n",
            "2. Log In\n",
            "3. Exit\n",
            "Enter Choice: 3\n",
            "Exiting from log in\n"
          ]
        }
      ],
      "source": [
        "#user Log in \n",
        "\n",
        "users = {}\n",
        "\n",
        "def Register():\n",
        "    username = input(\"Enter User Name: \")\n",
        "    password = input(\"Enter Password: \")\n",
        "    users[username] = password\n",
        "    print(\"Successfully Registered\")\n",
        "\n",
        "def log_in():\n",
        "    username = input(\"Enter UserName: \")\n",
        "    password = input(\"Enter Password: \")\n",
        "    if username in users and users[username] == password:\n",
        "        print(\"Successfully Logged in\")\n",
        "    else:\n",
        "        print(\"Invalid Credentials\")\n",
        "\n",
        "while True:\n",
        "    print(\"\\n1. Registration\")\n",
        "    print(\"2. Log In\")\n",
        "    print(\"3. Exit\")\n",
        "\n",
        "    ch = input(\"Enter Choice: \")\n",
        "    if ch == '1':\n",
        "        Register()\n",
        "    elif ch == '2':\n",
        "        log_in()\n",
        "    elif ch == '3':\n",
        "        print(\"Exiting from log in\")\n",
        "        break\n",
        "    else:\n",
        "        print(\"Please Enter Correct Choice\")"
      ]
    }
  ],
  "metadata": {
    "colab": {
      "provenance": []
    },
    "kernelspec": {
      "display_name": "Python 3",
      "name": "python3"
    },
    "language_info": {
      "name": "python"
    }
  },
  "nbformat": 4,
  "nbformat_minor": 0
}